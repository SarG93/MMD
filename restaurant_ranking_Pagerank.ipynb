{
 "cells": [
  {
   "cell_type": "markdown",
   "metadata": {},
   "source": [
    "# Project task 04:  Restaurant ranking"
   ]
  },
  {
   "cell_type": "code",
   "execution_count": 1,
   "metadata": {},
   "outputs": [],
   "source": [
    "import numpy as np\n",
    "import scipy.sparse as sp\n",
    "import time"
   ]
  },
  {
   "cell_type": "markdown",
   "metadata": {},
   "source": [
    "The goal of this task is to rank restaurants using the **PageRank** algorithm. You are given a directed weighted graph where each node represents one restaurant. The edges in this graph are based on users reviews.\n",
    "\n",
    "Additionally for each restaurant you are given the categories it belongs to, i.e. 'Mexican', 'Italian', etc. Note that each restaurant can belong to multiple categories.\n",
    "\n",
    "Considering these categories as topics you will perform **topic-sensitive PageRank**, enabling you to e.g. find the top 10 'Mexican' restaurants."
   ]
  },
  {
   "cell_type": "markdown",
   "metadata": {},
   "source": [
    "## 1. Load data\n",
    "\n",
    "* The graph is stored as a sparse adjacency matrix $A$\n",
    "* The categories are stored in a binary sparse matrix $C$, with $C_{ij}=1$ indicating that restaurant $i$ belongs to category $j$\n",
    "* We also provide you with a dictionary mapping each category to its corresponding column index in $C$\n",
    "* The name of each restaurant is provided as a list, with the i-th element in the list corresponding to the i-th node in the graph"
   ]
  },
  {
   "cell_type": "code",
   "execution_count": 2,
   "metadata": {},
   "outputs": [
    {
     "data": {
      "text/plain": [
       "<7073x7073 sparse matrix of type '<class 'numpy.float64'>'\n",
       "\twith 1682844 stored elements in Compressed Sparse Row format>"
      ]
     },
     "execution_count": 2,
     "metadata": {},
     "output_type": "execute_result"
    }
   ],
   "source": [
    "A = sp.load_npz('restaurant_graph.npz')\n",
    "A"
   ]
  },
  {
   "cell_type": "code",
   "execution_count": 3,
   "metadata": {},
   "outputs": [
    {
     "data": {
      "text/plain": [
       "<7073x138 sparse matrix of type '<class 'numpy.float64'>'\n",
       "\twith 19047 stored elements in Compressed Sparse Row format>"
      ]
     },
     "execution_count": 3,
     "metadata": {},
     "output_type": "execute_result"
    }
   ],
   "source": [
    "C = sp.load_npz('restaurant_categories.npz')\n",
    "C"
   ]
  },
  {
   "cell_type": "code",
   "execution_count": 4,
   "metadata": {},
   "outputs": [
    {
     "data": {
      "text/plain": [
       "(3, 14)"
      ]
     },
     "execution_count": 4,
     "metadata": {},
     "output_type": "execute_result"
    }
   ],
   "source": [
    "categories = np.load('categories.npy').tolist()\n",
    "categories['Mexican'], categories['Chinese']"
   ]
  },
  {
   "cell_type": "code",
   "execution_count": 5,
   "metadata": {},
   "outputs": [
    {
     "data": {
      "text/plain": [
       "array(['Alize Catering', 'Chula Taberna Mexicana', 'Sunnyside Grill'],\n",
       "      dtype='<U50')"
      ]
     },
     "execution_count": 5,
     "metadata": {},
     "output_type": "execute_result"
    }
   ],
   "source": [
    "names = np.load('restaurant_names.npy')\n",
    "names[:3]"
   ]
  },
  {
   "cell_type": "code",
   "execution_count": 6,
   "metadata": {},
   "outputs": [],
   "source": [
    "assert A.shape[0] == len(names) == C.shape[0]\n",
    "assert C.shape[1] == len(categories)"
   ]
  },
  {
   "cell_type": "code",
   "execution_count": 7,
   "metadata": {},
   "outputs": [
    {
     "name": "stdout",
     "output_type": "stream",
     "text": [
      "[   1   11   34   39   47  135  144  172  181  184  206  276  289  387\n",
      "  388  424  432  446  467  553  564  579  583  599  625  643  669  727\n",
      "  789  817  905  930 1033 1046 1131 1166 1273 1275 1286 1293 1340 1352\n",
      " 1382 1402 1416 1486 1540 1561 1569 1614 1733 1743 1756 1794 1886 1898\n",
      " 1902 1909 1924 1925 1926 1941 2031 2043 2069 2070 2101 2146 2206 2226\n",
      " 2311 2329 2390 2496 2537 2538 2572 2573 2576 2579 2591 2608 2628 2734\n",
      " 2770 2815 2839 2847 2852 2880 2887 2897 2949 2955 3018 3149 3165 3211\n",
      " 3221 3235 3239 3261 3274 3311 3332 3341 3364 3416 3430 3439 3441 3447\n",
      " 3456 3459 3460 3464 3479 3492 3545 3584 3606 3617 3693 3728 3791 3794\n",
      " 3849 3874 3885 3919 3932 3935 3939 3942 3975 3988 3992 4007 4008 4019\n",
      " 4020 4045 4049 4170 4191 4254 4268 4320 4321 4332 4343 4382 4395 4402\n",
      " 4417 4418 4426 4478 4542 4569 4571 4587 4598 4604 4609 4615 4624 4689\n",
      " 4695 4796 4800 4815 4886 4925 4946 4958 4999 5019 5020 5052 5116 5157\n",
      " 5187 5230 5233 5271 5300 5315 5324 5391 5442 5480 5498 5534 5546 5574\n",
      " 5621 5655 5706 5719 5828 5835 5843 5878 5908 5949 5964 5975 6023 6106\n",
      " 6126 6186 6271 6282 6294 6314 6369 6371 6389 6390 6429 6472 6546 6604\n",
      " 6605 6664 6671 6684 6706 6709 6745 6758 6784 6795 6816 6844 6911 6954\n",
      " 7011 7032 7046 7061]\n"
     ]
    }
   ],
   "source": [
    "B = C.getcol(categories['Mexican'])\n",
    "idx2,_ = B.nonzero()\n",
    "indeces = C.nonzero()\n",
    "idx1 = np.split(C.indices, C.indptr[1:-1])\n",
    "print(idx2)"
   ]
  },
  {
   "cell_type": "code",
   "execution_count": 8,
   "metadata": {},
   "outputs": [
    {
     "name": "stdout",
     "output_type": "stream",
     "text": [
      "(10000, 10000)\n",
      "[   4   32   43   78   92  113  157  216  235  243  258  281  286  325\n",
      "  341  355  367  397  398  400  405  424  424  440  450  452  469  474\n",
      "  475  487  504  508  512  522  544  545  563  567  575  587  593  611\n",
      "  617  679  694  732  734  741  763  799  829  843  877  892  900  902\n",
      "  903  929  946  952  960  981 1032 1039 1090 1097 1111 1122 1126 1133\n",
      " 1146 1162 1177 1189 1225 1226 1233 1235 1248 1259 1273 1293 1313 1315\n",
      " 1320 1347 1373 1402 1415 1435 1457 1472 1507 1553 1565 1570 1580 1588\n",
      " 1597 1609 1620 1620 1631 1666 1678 1707 1737 1738 1742 1747 1757 1791\n",
      " 1850 1851 1855 1862 1893 1922 1944 1949 1955 2036 2047 2067 2101 2121\n",
      " 2168 2182 2183 2215 2227 2274 2287 2306 2307 2327 2333 2333 2380 2384\n",
      " 2394 2395 2411 2415 2422 2430 2443 2447 2484 2510 2543 2583 2595 2623\n",
      " 2632 2638 2643 2646 2692 2715 2743 2747 2753 2761 2784 2784 2787 2811\n",
      " 2835 2891 2898 2945 2946 2946 2998 3013 3029 3038 3051 3052 3056 3073\n",
      " 3092 3128 3148 3154 3201 3243 3249 3256 3274 3280 3297 3299 3311 3381\n",
      " 3423 3428 3431 3474 3517 3539 3550 3554 3556 3569 3574 3609 3627 3641\n",
      " 3677 3703 3717 3725 3762 3786 3793 3796 3806 3809 3835 3882 3886 3969\n",
      " 3989 4017 4082 4094 4121 4132 4138 4151 4173 4176 4226 4227 4230 4249\n",
      " 4258 4275 4297 4311 4327 4334 4337 4344 4360 4399 4402 4429 4461 4490\n",
      " 4511 4534 4555 4584 4591 4591 4597 4648 4658 4659 4670 4706 4717 4727\n",
      " 4727 4759 4768 4825 4843 4843 4871 4889 4899 4901 4905 4951 4958 4964\n",
      " 4971 4977 4987 4995 5045 5048 5059 5072 5087 5089 5134 5136 5137 5157\n",
      " 5162 5163 5163 5169 5173 5193 5201 5211 5274 5282 5312 5318 5322 5362\n",
      " 5364 5378 5380 5395 5413 5436 5465 5483 5538 5555 5556 5572 5574 5590\n",
      " 5609 5620 5642 5664 5677 5687 5701 5714 5725 5725 5754 5756 5758 5761\n",
      " 5772 5777 5808 5812 5814 5842 5848 5858 5866 5872 5900 5905 5908 5910\n",
      " 5919 5934 5940 5948 5954 5958 5991 6008 6019 6019 6025 6039 6043 6074\n",
      " 6081 6103 6126 6136 6182 6186 6216 6232 6237 6253 6254 6255 6269 6291\n",
      " 6291 6324 6328 6331 6354 6359 6410 6411 6413 6438 6447 6464 6477 6494\n",
      " 6539 6561 6563 6597 6599 6601 6670 6685 6688 6692 6708 6710 6745 6747\n",
      " 6753 6763 6769 6787 6795 6822 6824 6836 6840 6860 6868 6877 6887 6894\n",
      " 6897 6898 6913 6914 6931 6932 6963 6981 7050 7064 7068 7088 7110 7160\n",
      " 7166 7199 7220 7222 7258 7265 7267 7270 7317 7342 7347 7351 7398 7402\n",
      " 7408 7438 7461 7482 7497 7497 7525 7526 7539 7546 7552 7559 7571 7580\n",
      " 7612 7621 7666 7684 7695 7703 7716 7730 7739 7745 7750 7760 7780 7799\n",
      " 7811 7827 7830 7837 7884 7897 7924 7927 7937 7945 7958 7969 7974 7992\n",
      " 8011 8050 8061 8061 8066 8068 8086 8108 8114 8122 8122 8123 8130 8132\n",
      " 8133 8136 8137 8153 8208 8209 8214 8235 8253 8276 8283 8296 8323 8330\n",
      " 8349 8364 8368 8370 8394 8399 8444 8444 8450 8456 8491 8492 8508 8523\n",
      " 8529 8536 8543 8548 8555 8556 8561 8573 8577 8585 8597 8598 8601 8607\n",
      " 8613 8618 8622 8628 8633 8634 8642 8644 8665 8698 8716 8732 8742 8775\n",
      " 8780 8781 8785 8811 8813 8813 8823 8830 8839 8856 8872 8904 8933 8936\n",
      " 8950 8951 8979 8986 8990 9010 9061 9062 9069 9093 9140 9152 9154 9188\n",
      " 9218 9232 9244 9265 9296 9331 9346 9348 9367 9373 9379 9381 9427 9451\n",
      " 9455 9460 9494 9522 9526 9529 9532 9534 9582 9594 9616 9619 9627 9648\n",
      " 9665 9683 9684 9689 9706 9713 9732 9737 9778 9781 9791 9795 9810 9839\n",
      " 9840 9862 9863 9867 9909 9926 9965 9976]\n",
      "Time:  0.01509404182434082\n"
     ]
    }
   ],
   "source": [
    "## scaling test to extract non-zero nodes\n",
    "prob = 1- C.nnz/(C.shape[0]*C.shape[1])\n",
    "shape = (10000, 10000)\n",
    "M = sp.csr_matrix(np.random.choice(2, shape, p=[prob, 1-prob]))\n",
    "print(M.shape)\n",
    "#print(C)\n",
    "topics = ['Mexican', 'Chinese', 'Korean'] \n",
    "\n",
    "start = time.time()\n",
    "\n",
    "col_idx = [categories[topic] for topic in topics]\n",
    "C1 = M[:, col_idx]\n",
    "idx,_ = C1.nonzero()\n",
    "print(idx)\n",
    "print('Time: ', time.time()-start)"
   ]
  },
  {
   "cell_type": "markdown",
   "metadata": {},
   "source": [
    " ## 2. Determine the teleport set\n",
    " \n",
    "\n",
    "Given a list of topics of intereset, i.e. `['Mexican', 'Italian', ...]`, implement a helper function to return all the restaurants that belong to **at least one** of these topics. These restaurants will become part of the teleport set in topic-sensitive PageRank."
   ]
  },
  {
   "cell_type": "code",
   "execution_count": 9,
   "metadata": {},
   "outputs": [],
   "source": [
    "def teleport_set(C, topics, categories):\n",
    "    \"\"\"\n",
    "    Finds the teleport set consisting of restaurants that belong to at least one of the specified topics.\n",
    "    \n",
    "    Parameters\n",
    "    ----------\n",
    "    C             : sp.spmatrix, shape [num_restaurants, num_categories]\n",
    "                    Binary matrix encoding which restaurants belongs to which categories.\n",
    "    topics        : List[string]\n",
    "                    List of topics of interest.\n",
    "    categories    : dict(string, int)\n",
    "                    Dictionary mapping each category to its corresponding column index in C.\n",
    "        \n",
    "    Returns\n",
    "    -------\n",
    "    teleport_idx : np.array, shape [S]\n",
    "                   The indicies of the nodes in the teleport set.\n",
    "    \"\"\"\n",
    "    #### YOUR CODE ####\n",
    "    \n",
    "    col_idx = [categories[topic] for topic in topics]\n",
    "    C1 = C[:, col_idx]\n",
    "    #print(len(C1.nonzero()[0]))\n",
    "\n",
    "    #teleport_idx = np.array(C1.nonzero()[0]).ravel()\n",
    "    teleport_idx,_ = C1.nonzero()    \n",
    "    print(teleport_idx.shape)\n",
    "    return teleport_idx"
   ]
  },
  {
   "cell_type": "markdown",
   "metadata": {},
   "source": [
    " ## 3. Implement topic-sensitive PageRank"
   ]
  },
  {
   "cell_type": "code",
   "execution_count": 86,
   "metadata": {},
   "outputs": [],
   "source": [
    "def page_rank(A, beta, teleport_idx=None, eps=1e-12):\n",
    "    \"\"\"\n",
    "    Implements topic-sensitive PageRank using power iteration and sparse matrix operations.\n",
    "    \n",
    "    Parameters\n",
    "    ----------\n",
    "    A           : sp.spmatrix, shape [num_restaurants, num_restaurants]\n",
    "                  The adjacency matrix representing the graph of restaurants.\n",
    "    beta        : float, \n",
    "                  0 < beta < 1, (1-beta) is the probabilty of teleporting to the nodes in the teleport set\n",
    "    teleport_idx: np.array, shape [S]\n",
    "                  The indicies of the nodes in the teleport set. If it equals to None\n",
    "                  it means runs standard PageRank, i.e. all nodes are in the teleport set.\n",
    "    \n",
    "    Returns\n",
    "    -------\n",
    "    r          : np.array, shape [num_restaurants]\n",
    "                 The page rank vector containing the page rank scores for each restaurant.\n",
    "    \"\"\"\n",
    "    \n",
    "    \"\"\"\n",
    "    #### YOUR CODE ####\n",
    "    num_restaurants, _ = A.shape\n",
    "    \n",
    "    #Normalize columns to make it stochastic\n",
    "    A /= A.sum(axis=0)\n",
    "    A = sp.csr_matrix(A)\n",
    "    \n",
    "    #Initialize teleport vector\n",
    "    if teleport_idx is None:\n",
    "        teleport_vec = np.ones(num_restaurants) / num_restaurants\n",
    "    else:\n",
    "        num_S, = teleport_idx.shape\n",
    "        teleport_vec = np.zeros(num_restaurants)\n",
    "        teleport_vec[teleport_idx] = 1.0 / num_S\n",
    "    \n",
    "    #Initialize r\n",
    "    r = np.ones(num_restaurants) / num_restaurants\n",
    "    r_old = np.ones(num_restaurants)\n",
    "    \n",
    "    #Power iteration\n",
    "    while np.linalg.norm(r_old - r) > eps:\n",
    "        r_old = r\n",
    "        r = beta * A.dot(r) + (1-beta) * teleport_vec\n",
    "    \n",
    "    r = np.array(r)\n",
    "    return r\n",
    "    \"\"\"\n",
    "    \n",
    "    #### YOUR CODE ####\n",
    "    start = time.time()\n",
    "    num_r,_ = A.shape\n",
    "    \n",
    "    A /= A.sum(axis=0)\n",
    "    A = sp.csr_matrix(A)\n",
    "\n",
    "    r1 = np.ones(num_r)/num_r\n",
    "    r = np.zeros(num_r)\n",
    "    \n",
    "    if teleport_idx is None:\n",
    "        teleport_vec = np.ones(num_r)/num_r\n",
    "        while np.linalg.norm(r1-r)>eps:\n",
    "            r = beta*A.dot(r1) + (1-beta)*teleport_vec\n",
    "            r1 = r\n",
    "    else:\n",
    "        num_tel = teleport_idx.shape[0]\n",
    "        teleport_vec = np.zeros(num_r)\n",
    "        teleport_vec[teleport_idx] = 1.0/num_tel\n",
    "        teleport_vec = sp.csr_matrix(teleport_vec)\n",
    "        r1 = sp.csr_matrix(r1).T\n",
    "        r = sp.csr_matrix(r).T\n",
    "        print(r.shape, r1.shape, A.shape)\n",
    "        print(sp.linalg.norm(A))\n",
    "        while sp.linalg.norm(r1-r)>eps:\n",
    "            r = beta*A.dot(r1) + (1-beta)*teleport_vec\n",
    "            r1 = r\n",
    "\n",
    "    r = np.array(r)\n",
    "    print('Time:', time.time()-start)\n",
    "    return r"
   ]
  },
  {
   "cell_type": "markdown",
   "metadata": {},
   "source": [
    "### 3.1 Calculate the standard PageRank scores and print the names of the top 5 restaurants overall"
   ]
  },
  {
   "cell_type": "code",
   "execution_count": 87,
   "metadata": {},
   "outputs": [],
   "source": [
    "idx_to_category = {v:k for k, v in categories.items()}"
   ]
  },
  {
   "cell_type": "code",
   "execution_count": 88,
   "metadata": {},
   "outputs": [
    {
     "name": "stdout",
     "output_type": "stream",
     "text": [
      "Time: 0.7966930866241455\n",
      "1 Edulis \n",
      "  Categories:  ['Sandwiches']\n",
      "2 Congee Me \n",
      "  Categories:  ['Korean']\n",
      "3 Sushi Making For the Soul \n",
      "  Categories:  ['Japanese']\n",
      "4 Thai Indeed \n",
      "  Categories:  ['Chinese']\n",
      "5 Happy Tummy Filipino Cuisine \n",
      "  Categories:  ['Chinese']\n"
     ]
    }
   ],
   "source": [
    "r = page_rank(A=A, beta=0.6, teleport_idx=None)\n",
    "\n",
    "for i, x in enumerate(r.argsort()[-5:]):\n",
    "    print(i+1, names[x], '\\n  Categories: ', [idx_to_category[cat] for cat in C[x].nonzero()[1]])"
   ]
  },
  {
   "cell_type": "markdown",
   "metadata": {},
   "source": [
    "### 3.2 Calculate the topic-sensitive PageRank scores and print the names of top 5 Mexican restaurants"
   ]
  },
  {
   "cell_type": "code",
   "execution_count": 89,
   "metadata": {},
   "outputs": [
    {
     "name": "stdout",
     "output_type": "stream",
     "text": [
      "(242,)\n",
      "(7073, 1) (7073, 1) (7073, 7073)\n"
     ]
    },
    {
     "ename": "AttributeError",
     "evalue": "module 'scipy.sparse' has no attribute 'linalg'",
     "output_type": "error",
     "traceback": [
      "\u001b[0;31m---------------------------------------------------------------------------\u001b[0m",
      "\u001b[0;31mAttributeError\u001b[0m                            Traceback (most recent call last)",
      "\u001b[0;32m<ipython-input-89-879e9e564a37>\u001b[0m in \u001b[0;36m<module>\u001b[0;34m()\u001b[0m\n\u001b[1;32m      1\u001b[0m \u001b[0mteleport_idx\u001b[0m \u001b[0;34m=\u001b[0m \u001b[0mteleport_set\u001b[0m\u001b[0;34m(\u001b[0m\u001b[0mC\u001b[0m\u001b[0;34m,\u001b[0m \u001b[0;34m[\u001b[0m\u001b[0;34m'Mexican'\u001b[0m\u001b[0;34m]\u001b[0m\u001b[0;34m,\u001b[0m \u001b[0mcategories\u001b[0m\u001b[0;34m)\u001b[0m\u001b[0;34m\u001b[0m\u001b[0;34m\u001b[0m\u001b[0m\n\u001b[0;32m----> 2\u001b[0;31m \u001b[0mr\u001b[0m \u001b[0;34m=\u001b[0m \u001b[0mpage_rank\u001b[0m\u001b[0;34m(\u001b[0m\u001b[0mA\u001b[0m\u001b[0;34m=\u001b[0m\u001b[0mA\u001b[0m\u001b[0;34m,\u001b[0m \u001b[0mbeta\u001b[0m\u001b[0;34m=\u001b[0m\u001b[0;36m0.6\u001b[0m\u001b[0;34m,\u001b[0m \u001b[0mteleport_idx\u001b[0m\u001b[0;34m=\u001b[0m\u001b[0mteleport_idx\u001b[0m\u001b[0;34m)\u001b[0m\u001b[0;34m\u001b[0m\u001b[0;34m\u001b[0m\u001b[0m\n\u001b[0m\u001b[1;32m      3\u001b[0m \u001b[0;34m\u001b[0m\u001b[0m\n\u001b[1;32m      4\u001b[0m \u001b[0;32mfor\u001b[0m \u001b[0mi\u001b[0m\u001b[0;34m,\u001b[0m \u001b[0mx\u001b[0m \u001b[0;32min\u001b[0m \u001b[0menumerate\u001b[0m\u001b[0;34m(\u001b[0m\u001b[0mr\u001b[0m\u001b[0;34m.\u001b[0m\u001b[0margsort\u001b[0m\u001b[0;34m(\u001b[0m\u001b[0;34m)\u001b[0m\u001b[0;34m[\u001b[0m\u001b[0;34m-\u001b[0m\u001b[0;36m5\u001b[0m\u001b[0;34m:\u001b[0m\u001b[0;34m]\u001b[0m\u001b[0;34m)\u001b[0m\u001b[0;34m:\u001b[0m\u001b[0;34m\u001b[0m\u001b[0;34m\u001b[0m\u001b[0m\n\u001b[1;32m      5\u001b[0m     \u001b[0mprint\u001b[0m\u001b[0;34m(\u001b[0m\u001b[0mi\u001b[0m\u001b[0;34m+\u001b[0m\u001b[0;36m1\u001b[0m\u001b[0;34m,\u001b[0m \u001b[0mnames\u001b[0m\u001b[0;34m[\u001b[0m\u001b[0mx\u001b[0m\u001b[0;34m]\u001b[0m\u001b[0;34m,\u001b[0m \u001b[0;34m'\\n  Categories: '\u001b[0m\u001b[0;34m,\u001b[0m \u001b[0;34m[\u001b[0m\u001b[0midx_to_category\u001b[0m\u001b[0;34m[\u001b[0m\u001b[0mcat\u001b[0m\u001b[0;34m]\u001b[0m \u001b[0;32mfor\u001b[0m \u001b[0mcat\u001b[0m \u001b[0;32min\u001b[0m \u001b[0mC\u001b[0m\u001b[0;34m[\u001b[0m\u001b[0mx\u001b[0m\u001b[0;34m]\u001b[0m\u001b[0;34m.\u001b[0m\u001b[0mnonzero\u001b[0m\u001b[0;34m(\u001b[0m\u001b[0;34m)\u001b[0m\u001b[0;34m[\u001b[0m\u001b[0;36m1\u001b[0m\u001b[0;34m]\u001b[0m\u001b[0;34m]\u001b[0m\u001b[0;34m)\u001b[0m\u001b[0;34m\u001b[0m\u001b[0;34m\u001b[0m\u001b[0m\n",
      "\u001b[0;32m<ipython-input-86-24d468414a52>\u001b[0m in \u001b[0;36mpage_rank\u001b[0;34m(A, beta, teleport_idx, eps)\u001b[0m\n\u001b[1;32m     71\u001b[0m         \u001b[0mr\u001b[0m \u001b[0;34m=\u001b[0m \u001b[0msp\u001b[0m\u001b[0;34m.\u001b[0m\u001b[0mcsr_matrix\u001b[0m\u001b[0;34m(\u001b[0m\u001b[0mr\u001b[0m\u001b[0;34m)\u001b[0m\u001b[0;34m.\u001b[0m\u001b[0mT\u001b[0m\u001b[0;34m\u001b[0m\u001b[0;34m\u001b[0m\u001b[0m\n\u001b[1;32m     72\u001b[0m         \u001b[0mprint\u001b[0m\u001b[0;34m(\u001b[0m\u001b[0mr\u001b[0m\u001b[0;34m.\u001b[0m\u001b[0mshape\u001b[0m\u001b[0;34m,\u001b[0m \u001b[0mr1\u001b[0m\u001b[0;34m.\u001b[0m\u001b[0mshape\u001b[0m\u001b[0;34m,\u001b[0m \u001b[0mA\u001b[0m\u001b[0;34m.\u001b[0m\u001b[0mshape\u001b[0m\u001b[0;34m)\u001b[0m\u001b[0;34m\u001b[0m\u001b[0;34m\u001b[0m\u001b[0m\n\u001b[0;32m---> 73\u001b[0;31m         \u001b[0mprint\u001b[0m\u001b[0;34m(\u001b[0m\u001b[0msp\u001b[0m\u001b[0;34m.\u001b[0m\u001b[0mlinalg\u001b[0m\u001b[0;34m.\u001b[0m\u001b[0mnorm\u001b[0m\u001b[0;34m(\u001b[0m\u001b[0mA\u001b[0m\u001b[0;34m)\u001b[0m\u001b[0;34m)\u001b[0m\u001b[0;34m\u001b[0m\u001b[0;34m\u001b[0m\u001b[0m\n\u001b[0m\u001b[1;32m     74\u001b[0m         \u001b[0;32mwhile\u001b[0m \u001b[0msp\u001b[0m\u001b[0;34m.\u001b[0m\u001b[0mlinalg\u001b[0m\u001b[0;34m.\u001b[0m\u001b[0mnorm\u001b[0m\u001b[0;34m(\u001b[0m\u001b[0mr1\u001b[0m\u001b[0;34m-\u001b[0m\u001b[0mr\u001b[0m\u001b[0;34m)\u001b[0m\u001b[0;34m>\u001b[0m\u001b[0meps\u001b[0m\u001b[0;34m:\u001b[0m\u001b[0;34m\u001b[0m\u001b[0;34m\u001b[0m\u001b[0m\n\u001b[1;32m     75\u001b[0m             \u001b[0mr\u001b[0m \u001b[0;34m=\u001b[0m \u001b[0mbeta\u001b[0m\u001b[0;34m*\u001b[0m\u001b[0mA\u001b[0m\u001b[0;34m.\u001b[0m\u001b[0mdot\u001b[0m\u001b[0;34m(\u001b[0m\u001b[0mr1\u001b[0m\u001b[0;34m)\u001b[0m \u001b[0;34m+\u001b[0m \u001b[0;34m(\u001b[0m\u001b[0;36m1\u001b[0m\u001b[0;34m-\u001b[0m\u001b[0mbeta\u001b[0m\u001b[0;34m)\u001b[0m\u001b[0;34m*\u001b[0m\u001b[0mteleport_vec\u001b[0m\u001b[0;34m\u001b[0m\u001b[0;34m\u001b[0m\u001b[0m\n",
      "\u001b[0;31mAttributeError\u001b[0m: module 'scipy.sparse' has no attribute 'linalg'"
     ]
    }
   ],
   "source": [
    "teleport_idx = teleport_set(C, ['Mexican'], categories)\n",
    "r = page_rank(A=A, beta=0.6, teleport_idx=teleport_idx)\n",
    "\n",
    "for i, x in enumerate(r.argsort()[-5:]):\n",
    "    print(i+1, names[x], '\\n  Categories: ', [idx_to_category[cat] for cat in C[x].nonzero()[1]])"
   ]
  },
  {
   "cell_type": "markdown",
   "metadata": {},
   "source": [
    "### 3.3 Calculate the topic-sensitive PageRank scores and print the names of top 5 Italian or French restaurants\n"
   ]
  },
  {
   "cell_type": "code",
   "execution_count": 137,
   "metadata": {},
   "outputs": [
    {
     "name": "stdout",
     "output_type": "stream",
     "text": [
      "(731,)\n"
     ]
    },
    {
     "ename": "NameError",
     "evalue": "name 'page_rank' is not defined",
     "output_type": "error",
     "traceback": [
      "\u001b[0;31m---------------------------------------------------------------------------\u001b[0m",
      "\u001b[0;31mNameError\u001b[0m                                 Traceback (most recent call last)",
      "\u001b[0;32m<ipython-input-137-3064a5b9ebbe>\u001b[0m in \u001b[0;36m<module>\u001b[0;34m()\u001b[0m\n\u001b[1;32m      1\u001b[0m \u001b[0mteleport_idx\u001b[0m \u001b[0;34m=\u001b[0m \u001b[0mteleport_set\u001b[0m\u001b[0;34m(\u001b[0m\u001b[0mC\u001b[0m\u001b[0;34m,\u001b[0m \u001b[0;34m[\u001b[0m\u001b[0;34m'Italian'\u001b[0m\u001b[0;34m,\u001b[0m \u001b[0;34m'French'\u001b[0m\u001b[0;34m]\u001b[0m\u001b[0;34m,\u001b[0m \u001b[0mcategories\u001b[0m\u001b[0;34m)\u001b[0m\u001b[0;34m\u001b[0m\u001b[0;34m\u001b[0m\u001b[0m\n\u001b[0;32m----> 2\u001b[0;31m \u001b[0mr\u001b[0m \u001b[0;34m=\u001b[0m \u001b[0mpage_rank\u001b[0m\u001b[0;34m(\u001b[0m\u001b[0mA\u001b[0m\u001b[0;34m=\u001b[0m\u001b[0mA\u001b[0m\u001b[0;34m,\u001b[0m \u001b[0mbeta\u001b[0m\u001b[0;34m=\u001b[0m\u001b[0;36m0.6\u001b[0m\u001b[0;34m,\u001b[0m \u001b[0mteleport_idx\u001b[0m\u001b[0;34m=\u001b[0m\u001b[0mteleport_idx\u001b[0m\u001b[0;34m)\u001b[0m\u001b[0;34m\u001b[0m\u001b[0;34m\u001b[0m\u001b[0m\n\u001b[0m\u001b[1;32m      3\u001b[0m \u001b[0;34m\u001b[0m\u001b[0m\n\u001b[1;32m      4\u001b[0m \u001b[0;32mfor\u001b[0m \u001b[0mi\u001b[0m\u001b[0;34m,\u001b[0m \u001b[0mx\u001b[0m \u001b[0;32min\u001b[0m \u001b[0menumerate\u001b[0m\u001b[0;34m(\u001b[0m\u001b[0mr\u001b[0m\u001b[0;34m.\u001b[0m\u001b[0margsort\u001b[0m\u001b[0;34m(\u001b[0m\u001b[0;34m)\u001b[0m\u001b[0;34m[\u001b[0m\u001b[0;34m-\u001b[0m\u001b[0;36m5\u001b[0m\u001b[0;34m:\u001b[0m\u001b[0;34m]\u001b[0m\u001b[0;34m)\u001b[0m\u001b[0;34m:\u001b[0m\u001b[0;34m\u001b[0m\u001b[0;34m\u001b[0m\u001b[0m\n\u001b[1;32m      5\u001b[0m     \u001b[0mprint\u001b[0m\u001b[0;34m(\u001b[0m\u001b[0mi\u001b[0m\u001b[0;34m+\u001b[0m\u001b[0;36m1\u001b[0m\u001b[0;34m,\u001b[0m \u001b[0mnames\u001b[0m\u001b[0;34m[\u001b[0m\u001b[0mx\u001b[0m\u001b[0;34m]\u001b[0m\u001b[0;34m,\u001b[0m \u001b[0;34m'\\n  Categories: '\u001b[0m\u001b[0;34m,\u001b[0m \u001b[0;34m[\u001b[0m\u001b[0midx_to_category\u001b[0m\u001b[0;34m[\u001b[0m\u001b[0mcat\u001b[0m\u001b[0;34m]\u001b[0m \u001b[0;32mfor\u001b[0m \u001b[0mcat\u001b[0m \u001b[0;32min\u001b[0m \u001b[0mC\u001b[0m\u001b[0;34m[\u001b[0m\u001b[0mx\u001b[0m\u001b[0;34m]\u001b[0m\u001b[0;34m.\u001b[0m\u001b[0mnonzero\u001b[0m\u001b[0;34m(\u001b[0m\u001b[0;34m)\u001b[0m\u001b[0;34m[\u001b[0m\u001b[0;36m1\u001b[0m\u001b[0;34m]\u001b[0m\u001b[0;34m]\u001b[0m\u001b[0;34m)\u001b[0m\u001b[0;34m\u001b[0m\u001b[0;34m\u001b[0m\u001b[0m\n",
      "\u001b[0;31mNameError\u001b[0m: name 'page_rank' is not defined"
     ]
    }
   ],
   "source": [
    "teleport_idx = teleport_set(C, ['Italian', 'French'], categories)\n",
    "r = page_rank(A=A, beta=0.6, teleport_idx=teleport_idx)\n",
    "\n",
    "for i, x in enumerate(r.argsort()[-5:]):\n",
    "    print(i+1, names[x], '\\n  Categories: ', [idx_to_category[cat] for cat in C[x].nonzero()[1]])"
   ]
  },
  {
   "cell_type": "code",
   "execution_count": null,
   "metadata": {
    "collapsed": true
   },
   "outputs": [],
   "source": []
  }
 ],
 "metadata": {
  "kernelspec": {
   "display_name": "Python 3",
   "language": "python",
   "name": "python3"
  },
  "language_info": {
   "codemirror_mode": {
    "name": "ipython",
    "version": 3
   },
   "file_extension": ".py",
   "mimetype": "text/x-python",
   "name": "python",
   "nbconvert_exporter": "python",
   "pygments_lexer": "ipython3",
   "version": "3.6.8"
  }
 },
 "nbformat": 4,
 "nbformat_minor": 2
}
